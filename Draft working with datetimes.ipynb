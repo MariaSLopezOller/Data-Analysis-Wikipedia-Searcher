{
 "cells": [
  {
   "cell_type": "markdown",
   "metadata": {},
   "source": [
    "# Draft - probando datetime"
   ]
  },
  {
   "cell_type": "code",
   "execution_count": 1,
   "metadata": {},
   "outputs": [],
   "source": [
    "import pandas as pd\n",
    "import datetime\n",
    "import numpy as np"
   ]
  },
  {
   "cell_type": "code",
   "execution_count": 2,
   "metadata": {},
   "outputs": [],
   "source": [
    "Rawdata_events = pd.read_csv(\"Downloads/events_log.csv/Rawdata_events_log.csv\", dtype= {'timestamp':'string'})"
   ]
  },
  {
   "cell_type": "code",
   "execution_count": 3,
   "metadata": {},
   "outputs": [
    {
     "data": {
      "text/plain": [
       "Index(['uuid', 'timestamp', 'session_id', 'group', 'action', 'checkin',\n",
       "       'page_id', 'n_results', 'result_position'],\n",
       "      dtype='object')"
      ]
     },
     "execution_count": 3,
     "metadata": {},
     "output_type": "execute_result"
    }
   ],
   "source": [
    "Rawdata_events.columns"
   ]
  },
  {
   "cell_type": "code",
   "execution_count": 4,
   "metadata": {},
   "outputs": [
    {
     "data": {
      "text/html": [
       "<div>\n",
       "<style scoped>\n",
       "    .dataframe tbody tr th:only-of-type {\n",
       "        vertical-align: middle;\n",
       "    }\n",
       "\n",
       "    .dataframe tbody tr th {\n",
       "        vertical-align: top;\n",
       "    }\n",
       "\n",
       "    .dataframe thead th {\n",
       "        text-align: right;\n",
       "    }\n",
       "</style>\n",
       "<table border=\"1\" class=\"dataframe\">\n",
       "  <thead>\n",
       "    <tr style=\"text-align: right;\">\n",
       "      <th></th>\n",
       "      <th>uuid</th>\n",
       "      <th>timestamp</th>\n",
       "      <th>session_id</th>\n",
       "      <th>group</th>\n",
       "      <th>action</th>\n",
       "      <th>checkin</th>\n",
       "      <th>page_id</th>\n",
       "      <th>n_results</th>\n",
       "      <th>result_position</th>\n",
       "    </tr>\n",
       "  </thead>\n",
       "  <tbody>\n",
       "    <tr>\n",
       "      <th>0</th>\n",
       "      <td>00000736167c507e8ec225bd9e71f9e5</td>\n",
       "      <td>20160301103842</td>\n",
       "      <td>78245c2c3fba013a</td>\n",
       "      <td>b</td>\n",
       "      <td>searchResultPage</td>\n",
       "      <td>NaN</td>\n",
       "      <td>cbeb66d1bc1f1bc2</td>\n",
       "      <td>5.0</td>\n",
       "      <td>NaN</td>\n",
       "    </tr>\n",
       "    <tr>\n",
       "      <th>1</th>\n",
       "      <td>00000c69fe345268935463abbfa5d5b3</td>\n",
       "      <td>20160307005226</td>\n",
       "      <td>c559c3be98dca8a4</td>\n",
       "      <td>a</td>\n",
       "      <td>searchResultPage</td>\n",
       "      <td>NaN</td>\n",
       "      <td>eb658e8722aad674</td>\n",
       "      <td>10.0</td>\n",
       "      <td>NaN</td>\n",
       "    </tr>\n",
       "    <tr>\n",
       "      <th>2</th>\n",
       "      <td>00003bfdab715ee59077a3670331b787</td>\n",
       "      <td>20160302145305</td>\n",
       "      <td>760bf89817ce4b08</td>\n",
       "      <td>a</td>\n",
       "      <td>checkin</td>\n",
       "      <td>30.0</td>\n",
       "      <td>f99a9fc1f7fdd21e</td>\n",
       "      <td>NaN</td>\n",
       "      <td>NaN</td>\n",
       "    </tr>\n",
       "    <tr>\n",
       "      <th>3</th>\n",
       "      <td>0000465cd7c35ad2bdeafec953e08c1a</td>\n",
       "      <td>20160302222701</td>\n",
       "      <td>fb905603d31b2071</td>\n",
       "      <td>a</td>\n",
       "      <td>checkin</td>\n",
       "      <td>60.0</td>\n",
       "      <td>e5626962a6939a75</td>\n",
       "      <td>NaN</td>\n",
       "      <td>10.0</td>\n",
       "    </tr>\n",
       "    <tr>\n",
       "      <th>4</th>\n",
       "      <td>000050cbb4ef5b42b16c4d2cf69e6358</td>\n",
       "      <td>20160302095023</td>\n",
       "      <td>c2bf5e5172a892dc</td>\n",
       "      <td>a</td>\n",
       "      <td>checkin</td>\n",
       "      <td>30.0</td>\n",
       "      <td>787dd6a4c371cbf9</td>\n",
       "      <td>NaN</td>\n",
       "      <td>NaN</td>\n",
       "    </tr>\n",
       "  </tbody>\n",
       "</table>\n",
       "</div>"
      ],
      "text/plain": [
       "                               uuid       timestamp        session_id group  \\\n",
       "0  00000736167c507e8ec225bd9e71f9e5  20160301103842  78245c2c3fba013a     b   \n",
       "1  00000c69fe345268935463abbfa5d5b3  20160307005226  c559c3be98dca8a4     a   \n",
       "2  00003bfdab715ee59077a3670331b787  20160302145305  760bf89817ce4b08     a   \n",
       "3  0000465cd7c35ad2bdeafec953e08c1a  20160302222701  fb905603d31b2071     a   \n",
       "4  000050cbb4ef5b42b16c4d2cf69e6358  20160302095023  c2bf5e5172a892dc     a   \n",
       "\n",
       "             action  checkin           page_id  n_results  result_position  \n",
       "0  searchResultPage      NaN  cbeb66d1bc1f1bc2        5.0              NaN  \n",
       "1  searchResultPage      NaN  eb658e8722aad674       10.0              NaN  \n",
       "2           checkin     30.0  f99a9fc1f7fdd21e        NaN              NaN  \n",
       "3           checkin     60.0  e5626962a6939a75        NaN             10.0  \n",
       "4           checkin     30.0  787dd6a4c371cbf9        NaN              NaN  "
      ]
     },
     "execution_count": 4,
     "metadata": {},
     "output_type": "execute_result"
    }
   ],
   "source": [
    "Rawdata_events.head(5)"
   ]
  },
  {
   "cell_type": "code",
   "execution_count": 5,
   "metadata": {},
   "outputs": [
    {
     "name": "stdout",
     "output_type": "stream",
     "text": [
      "Wall time: 0 ns\n"
     ]
    }
   ],
   "source": [
    "Rawdata_events['year']=Rawdata_events.timestamp.str[:4]\n",
    "Rawdata_events['month']=Rawdata_events.timestamp.str[4:6]\n",
    "Rawdata_events['day']=Rawdata_events.timestamp.str[6:8]\n",
    "Rawdata_events['hour']=Rawdata_events.timestamp.str[8:10]\n",
    "Rawdata_events['minute']=Rawdata_events.timestamp.str[10:12]\n",
    "Rawdata_events['second']=Rawdata_events.timestamp.str[12:14]\n",
    "Rawdata_events.dtypes\n",
    "%time "
   ]
  },
  {
   "cell_type": "code",
   "execution_count": 6,
   "metadata": {},
   "outputs": [],
   "source": [
    "Rawdata_events['Date']=pd.to_datetime(Rawdata_events[['year','month','day']],errors='coerce')"
   ]
  },
  {
   "cell_type": "code",
   "execution_count": 7,
   "metadata": {},
   "outputs": [],
   "source": [
    "Rawdata_events['Timestamp']=pd.to_datetime(Rawdata_events[['year','month','day','hour','minute','second']],errors='coerce')"
   ]
  },
  {
   "cell_type": "code",
   "execution_count": 8,
   "metadata": {},
   "outputs": [
    {
     "data": {
      "text/plain": [
       "uuid                       object\n",
       "timestamp                  string\n",
       "session_id                 object\n",
       "group                      object\n",
       "action                     object\n",
       "checkin                   float64\n",
       "page_id                    object\n",
       "n_results                 float64\n",
       "result_position           float64\n",
       "year                       string\n",
       "month                      string\n",
       "day                        string\n",
       "hour                       string\n",
       "minute                     string\n",
       "second                     string\n",
       "Date               datetime64[ns]\n",
       "Timestamp          datetime64[ns]\n",
       "dtype: object"
      ]
     },
     "execution_count": 8,
     "metadata": {},
     "output_type": "execute_result"
    }
   ],
   "source": [
    "Rawdata_events.dtypes"
   ]
  },
  {
   "cell_type": "code",
   "execution_count": 9,
   "metadata": {},
   "outputs": [
    {
     "name": "stdout",
     "output_type": "stream",
     "text": [
      "                              count       mean         std   min   25%   50%  \\\n",
      "                Date                                                           \n",
      "checkin         2016-03-01  34296.0  95.328901  103.674928  10.0  20.0  50.0   \n",
      "                2016-03-02  34728.0  95.542214  103.789792  10.0  20.0  50.0   \n",
      "                2016-03-03  34910.0  95.646520  103.869581  10.0  20.0  50.0   \n",
      "                2016-03-04  24777.0  98.405780  105.393467  10.0  20.0  50.0   \n",
      "                2016-03-05  19715.0  98.630992  105.349640  10.0  20.0  50.0   \n",
      "                2016-03-06  22829.0  97.668317  104.281774  10.0  20.0  50.0   \n",
      "                2016-03-07  28832.0  99.327830  105.644548  10.0  20.0  50.0   \n",
      "                2016-03-08  23734.0  99.022921  105.573186  10.0  20.0  50.0   \n",
      "n_results       2016-03-01  18374.0  13.205399   12.126842   0.0   2.0  20.0   \n",
      "                2016-03-02  18902.0  12.996244   15.911570   0.0   1.0  20.0   \n",
      "                2016-03-03  19159.0  13.313586   13.246304   0.0   2.0  20.0   \n",
      "                2016-03-04  16674.0  13.602075   14.074965   0.0   2.0  20.0   \n",
      "                2016-03-05  13204.0  12.973947   11.110303   0.0   2.0  20.0   \n",
      "                2016-03-06  14612.0  13.342869   14.191158   0.0   2.0  20.0   \n",
      "                2016-03-07  19011.0  13.179422   11.703646   0.0   2.0  20.0   \n",
      "                2016-03-08  16297.0  13.048475   12.777542   0.0   2.0  20.0   \n",
      "result_position 2016-03-01  28980.0   5.075569  104.904424   1.0   1.0   1.0   \n",
      "                2016-03-02  29777.0   2.415824    7.964362   1.0   1.0   1.0   \n",
      "                2016-03-03  31662.0   2.537711    5.884420   1.0   1.0   1.0   \n",
      "                2016-03-04  29067.0   3.770874   23.216219   1.0   1.0   1.0   \n",
      "                2016-03-05  23037.0   2.280896    3.266491   1.0   1.0   1.0   \n",
      "                2016-03-06  26579.0   2.465744    8.074749   1.0   1.0   1.0   \n",
      "                2016-03-07  33546.0   2.691200    7.353231   1.0   1.0   1.0   \n",
      "                2016-03-08  27832.0   2.602759    6.303517   1.0   1.0   1.0   \n",
      "\n",
      "                              75%     max  \n",
      "                Date                       \n",
      "checkin         2016-03-01  150.0   420.0  \n",
      "                2016-03-02  150.0   420.0  \n",
      "                2016-03-03  150.0   420.0  \n",
      "                2016-03-04  150.0   420.0  \n",
      "                2016-03-05  150.0   420.0  \n",
      "                2016-03-06  150.0   420.0  \n",
      "                2016-03-07  150.0   420.0  \n",
      "                2016-03-08  150.0   420.0  \n",
      "n_results       2016-03-01   20.0   500.0  \n",
      "                2016-03-02   20.0   500.0  \n",
      "                2016-03-03   20.0   500.0  \n",
      "                2016-03-04   20.0   500.0  \n",
      "                2016-03-05   20.0   500.0  \n",
      "                2016-03-06   20.0   500.0  \n",
      "                2016-03-07   20.0   500.0  \n",
      "                2016-03-08   20.0   500.0  \n",
      "result_position 2016-03-01    2.0  4103.0  \n",
      "                2016-03-02    2.0   380.0  \n",
      "                2016-03-03    2.0   291.0  \n",
      "                2016-03-04    2.0   561.0  \n",
      "                2016-03-05    2.0    87.0  \n",
      "                2016-03-06    2.0  1044.0  \n",
      "                2016-03-07    2.0   198.0  \n",
      "                2016-03-08    2.0   174.0  \n"
     ]
    }
   ],
   "source": [
    "df1 = (Rawdata_events.groupby('Date')\n",
    "         .describe()\n",
    "         .unstack()\n",
    "         .unstack(1)\n",
    "         .reindex(Rawdata_events.columns[1:], level=0))\n",
    "print(df1)"
   ]
  },
  {
   "cell_type": "code",
   "execution_count": 10,
   "metadata": {},
   "outputs": [
    {
     "data": {
      "text/plain": [
       "'Tuesday'"
      ]
     },
     "execution_count": 10,
     "metadata": {},
     "output_type": "execute_result"
    }
   ],
   "source": [
    "Rawdata_events.loc[0,'Timestamp'].day_name()"
   ]
  },
  {
   "cell_type": "code",
   "execution_count": 11,
   "metadata": {},
   "outputs": [],
   "source": [
    "#Dayofweek"
   ]
  },
  {
   "cell_type": "code",
   "execution_count": 12,
   "metadata": {},
   "outputs": [],
   "source": [
    "Rawdata_events['DayofWeek']= Rawdata_events['Timestamp'].dt.day_name()"
   ]
  },
  {
   "cell_type": "code",
   "execution_count": null,
   "metadata": {},
   "outputs": [],
   "source": []
  },
  {
   "cell_type": "code",
   "execution_count": 23,
   "metadata": {},
   "outputs": [
    {
     "ename": "TypeError",
     "evalue": "'method' object is not subscriptable",
     "output_type": "error",
     "traceback": [
      "\u001b[1;31m---------------------------------------------------------------------------\u001b[0m",
      "\u001b[1;31mTypeError\u001b[0m                                 Traceback (most recent call last)",
      "\u001b[1;32m<ipython-input-23-f75163757452>\u001b[0m in \u001b[0;36m<module>\u001b[1;34m\u001b[0m\n\u001b[1;32m----> 1\u001b[1;33m \u001b[0mdf4\u001b[0m\u001b[1;33m=\u001b[0m\u001b[0mRawdata_events\u001b[0m\u001b[1;33m.\u001b[0m\u001b[0mgroupby\u001b[0m\u001b[1;33m[\u001b[0m\u001b[1;34m'Timestamp'\u001b[0m\u001b[1;33m]\u001b[0m\u001b[1;33m\u001b[0m\u001b[1;33m\u001b[0m\u001b[0m\n\u001b[0m",
      "\u001b[1;31mTypeError\u001b[0m: 'method' object is not subscriptable"
     ]
    }
   ],
   "source": [
    "df4=Rawdata_events.groupby['Timestamp']"
   ]
  },
  {
   "cell_type": "code",
   "execution_count": 22,
   "metadata": {},
   "outputs": [
    {
     "data": {
      "text/plain": [
       "session_id\n",
       "0000cbcb67c19c45    1\n",
       "0001382e027b2ea4    2\n",
       "0001e8bb90445cb2    2\n",
       "000216cf18ae1ab1    6\n",
       "000527f711d50dfc    1\n",
       "                   ..\n",
       "fffa5a2bcaf090c4    1\n",
       "fffa88acebf831c8    6\n",
       "fffac2c4111308d0    1\n",
       "fffb978cc690214c    3\n",
       "ffff9adcd8f302d6    8\n",
       "Name: page_id, Length: 68028, dtype: int64"
      ]
     },
     "execution_count": 22,
     "metadata": {},
     "output_type": "execute_result"
    }
   ],
   "source": [
    "df1 = Rawdata_events.groupby('session_id')['page_id'].nunique()\n",
    "df1"
   ]
  },
  {
   "cell_type": "code",
   "execution_count": null,
   "metadata": {},
   "outputs": [],
   "source": [
    "df2 = Rawdata_events.groupby(by='session_id', as_index=False).agg({'uuid': pd.Series.nunique}).sort_values(by='uuid', ascending=False)"
   ]
  },
  {
   "cell_type": "code",
   "execution_count": null,
   "metadata": {},
   "outputs": [],
   "source": [
    "df3 = Rawdata_events.groupby(by='uuid', as_index=False).agg({'session_id': pd.Series.nunique}).sort_values(by='uuid', ascending=False)"
   ]
  },
  {
   "cell_type": "code",
   "execution_count": null,
   "metadata": {},
   "outputs": [],
   "source": [
    "print(df3)"
   ]
  },
  {
   "cell_type": "code",
   "execution_count": null,
   "metadata": {},
   "outputs": [],
   "source": [
    "Rawdata_events['n_results'].min()\n",
    "Rawdata_events['n_results'].max()"
   ]
  },
  {
   "cell_type": "code",
   "execution_count": null,
   "metadata": {},
   "outputs": [],
   "source": [
    "filt= (Rawdata_events['n_results']> 100)"
   ]
  },
  {
   "cell_type": "code",
   "execution_count": null,
   "metadata": {},
   "outputs": [],
   "source": [
    "n_results_100=Rawdata_events.loc[filt]"
   ]
  },
  {
   "cell_type": "code",
   "execution_count": null,
   "metadata": {},
   "outputs": [],
   "source": [
    "n_results_100.describe"
   ]
  },
  {
   "cell_type": "code",
   "execution_count": null,
   "metadata": {},
   "outputs": [],
   "source": [
    "pd.crosstab(n_results_100[\"group\"],n_results_100[\"action\"],margins=True)"
   ]
  },
  {
   "cell_type": "code",
   "execution_count": null,
   "metadata": {},
   "outputs": [],
   "source": [
    "n_results_100.to_csv('C:\\\\Users\\\\Maria\\\\Desktop\\\\raw_data2.csv')"
   ]
  },
  {
   "cell_type": "code",
   "execution_count": null,
   "metadata": {},
   "outputs": [],
   "source": []
  }
 ],
 "metadata": {
  "kernelspec": {
   "display_name": "Python 3",
   "language": "python",
   "name": "python3"
  },
  "language_info": {
   "codemirror_mode": {
    "name": "ipython",
    "version": 3
   },
   "file_extension": ".py",
   "mimetype": "text/x-python",
   "name": "python",
   "nbconvert_exporter": "python",
   "pygments_lexer": "ipython3",
   "version": "3.7.6"
  }
 },
 "nbformat": 4,
 "nbformat_minor": 4
}
